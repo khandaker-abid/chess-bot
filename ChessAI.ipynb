{
 "cells": [
  {
   "cell_type": "code",
   "id": "initial_id",
   "metadata": {
    "collapsed": true,
    "ExecuteTime": {
     "end_time": "2024-09-13T02:21:10.850777Z",
     "start_time": "2024-09-13T02:21:10.724151Z"
    }
   },
   "source": [
    "import chess as chess\n",
    "import chess.engine as engine\n",
    "import random\n",
    "import numpy as np\n",
    "import math\n",
    "import tensorflow.keras.models as models\n",
    "import tensorflow.keras.layers as layers\n",
    "import tensorflow.keras.utils as utils\n",
    "import tensorflow.keras.optimizers as optimizers"
   ],
   "outputs": [],
   "execution_count": 10
  },
  {
   "metadata": {
    "ExecuteTime": {
     "end_time": "2024-09-13T02:21:16.122004Z",
     "start_time": "2024-09-13T02:21:16.101590Z"
    }
   },
   "cell_type": "code",
   "source": [
    "def random_board():\n",
    "    board = chess.Board()\n",
    "    depth = random.randrange(0, 300)\n",
    "    for i in range(depth):\n",
    "        all_moves = list(board.legal_moves)\n",
    "        rand_move = random.choice(all_moves)\n",
    "        board.push(rand_move)\n",
    "        print(board)\n",
    "        if board.is_game_over():\n",
    "            break\n",
    "    return board \n",
    "\n",
    "def sfrating(board, depth, boolean): #boolean true if checking whites score, false if checking blacks score\n",
    "    stockfish = engine.SimpleEngine.popen_uci('ChessAI/stockfish-mac-master/Chess')\n",
    "    result = stockfish.analyse(board, engine.Limit(depth=depth))\n",
    "    if boolean:\n",
    "        return result['score'].white().score()\n",
    "    else:\n",
    "        return result['score'].black().score()\n",
    "    \n",
    "def index(spot): #1, 63, etc, horizontal-sequenced\n",
    "    return (8*(spot[1]-1)) + ord(spot[0].upper()-65) \n",
    "\n",
    "def three_d_ify(cb): #returns 14 states of board, an appearance matrix of every piece for both sides (6*2=12) and 2 more states with all that each side threatens\n",
    "    super_board = np.zeros((14, 8, 8), dtype=np.int8) #simplified because max is 64\n",
    "    \n",
    "    for piece in chess.PIECE_TYPES:\n",
    "        for sq in cb.pieces(piece, chess.WHITE):\n",
    "            p_index = np.unravel_index(sq, (8, 8))\n",
    "            super_board[piece-1][p_index[0]][p_index[1]] = 1 #targets white pieces of type\n",
    "            \n",
    "        for sq in cb.pieces(piece, chess.BLACK):\n",
    "            p_index = np.unravel_index(sq, (8, 8))\n",
    "            super_board[piece+5][p_index[0]][p_index[1]] = 1 #targets black pieces of type\n",
    "            \n",
    "    cb.turn = chess.WHITE\n",
    "    for vmoves in cb.legal_moves:\n",
    "        i = index(vmoves.to_square)\n",
    "        super_board[12][i-math.floor((i)/8)*8][math.floor((i)/8)] = 1\n",
    "        \n",
    "    cb.turn = chess.BLACK\n",
    "    for vmoves in cb.legal_moves:\n",
    "        i = index(vmoves.to_square)\n",
    "        super_board[13][i-math.floor((i)/8)*8][math.floor((i)/8)] = 1\n",
    "        "
   ],
   "id": "35c2806f7e1384ce",
   "outputs": [],
   "execution_count": 11
  },
  {
   "metadata": {
    "ExecuteTime": {
     "end_time": "2024-09-13T02:21:54.214270Z",
     "start_time": "2024-09-13T02:21:54.121647Z"
    }
   },
   "cell_type": "code",
   "source": [
    "def make_model(conv_layers, conv_neurons, dense_layers, dense_neurons): #i like to call conv filters neurons\n",
    "    super_board = layers.Input(shape=(14, 8, 8))\n",
    "    x = super_board\n",
    "    \n",
    "    for i in range(conv_layers):\n",
    "        x = layers.Conv2D(filters=conv_neurons, kernel_size=3, padding='same', activation='relu')(x)\n",
    "    x = layers.Flatten()(x)\n",
    "    \n",
    "    for i in range(dense_layers):\n",
    "        x = layers.Dense(units=dense_neurons, activation='relu')(x)\n",
    "    x = layers.Dense(units=1, activation='sigmoid')(x)\n",
    "    \n",
    "    return models.Model(inputs=super_board, outputs=x)\n"
   ],
   "id": "df87acbfa4772b6",
   "outputs": [],
   "execution_count": 13
  },
  {
   "metadata": {
    "ExecuteTime": {
     "end_time": "2024-09-13T02:41:26.282745Z",
     "start_time": "2024-09-13T02:41:25.374768Z"
    }
   },
   "cell_type": "code",
   "source": "m = make_model(5, 16, 2, 32)",
   "id": "477f28c6e31f701d",
   "outputs": [],
   "execution_count": 16
  },
  {
   "metadata": {
    "ExecuteTime": {
     "end_time": "2024-09-13T02:22:18.083218Z",
     "start_time": "2024-09-13T02:22:18.009343Z"
    }
   },
   "cell_type": "code",
   "source": [
    "def minimax(board, depth, maximizing, alpha, beta, model):\n",
    "    if depth == 0 | board.is_game_over(): \n",
    "        return evaluate(board, model)\n",
    "    \n",
    "    if maximizing:\n",
    "        max_move = -np.inf\n",
    "        for move in board.legal_moves:\n",
    "            newb = board.push(move)\n",
    "            eval = minimax(newb, depth-1, False, alpha, beta, model)\n",
    "            board.pop()\n",
    "            max_move = max(max_move, eval)\n",
    "            alpha = max(alpha, eval)\n",
    "            if alpha >= beta:\n",
    "                return\n",
    "        return max_move\n",
    "    \n",
    "    else:\n",
    "        min_move = np.inf\n",
    "        for move in board.legal_moves:\n",
    "            newb = board.push(move)\n",
    "            eval = minimax(newb, depth-1, True, alpha, beta, model)\n",
    "            board.pop()\n",
    "            min_move = min(min_move, eval)\n",
    "            beta = min(beta, eval)\n",
    "            if alpha >= beta:\n",
    "                return\n",
    "        return min_move    \n",
    "\n",
    "def evaluate(board, model):\n",
    "    super_board = three_d_ify(board)\n",
    "    model.predict(super_board)\n",
    "            \n",
    "def get_move(board, depth, model):\n",
    "    m = None\n",
    "    \n",
    "    if board.turn == chess.WHITE:\n",
    "        max_eval = -np.inf\n",
    "        for move in board.legal_moves:\n",
    "            board.push(move)\n",
    "            eval = minimax(board, depth, True, -np.inf, np.inf, model)\n",
    "            board.pop()\n",
    "            if eval > max_eval:\n",
    "                max_eval = eval\n",
    "                m = move\n",
    "    \n",
    "    else:\n",
    "        min_eval = np.inf\n",
    "        for move in board.legal_moves:\n",
    "            board.push(move)\n",
    "            eval = minimax(board, depth, False, -np.inf, np.inf, model)\n",
    "            board.pop()\n",
    "            if eval < min_eval:\n",
    "                min_eval = eval\n",
    "                m = move\n",
    "                \n",
    "    return m            "
   ],
   "id": "3cc29c5e557f42f",
   "outputs": [],
   "execution_count": 15
  }
 ],
 "metadata": {
  "kernelspec": {
   "display_name": "Python 3",
   "language": "python",
   "name": "python3"
  },
  "language_info": {
   "codemirror_mode": {
    "name": "ipython",
    "version": 2
   },
   "file_extension": ".py",
   "mimetype": "text/x-python",
   "name": "python",
   "nbconvert_exporter": "python",
   "pygments_lexer": "ipython2",
   "version": "2.7.6"
  }
 },
 "nbformat": 4,
 "nbformat_minor": 5
}
