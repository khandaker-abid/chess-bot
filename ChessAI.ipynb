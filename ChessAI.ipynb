{
 "cells": [
  {
   "cell_type": "code",
   "id": "initial_id",
   "metadata": {
    "collapsed": true,
    "ExecuteTime": {
     "end_time": "2024-09-13T02:21:10.850777Z",
     "start_time": "2024-09-13T02:21:10.724151Z"
    }
   },
   "source": [
    "import chess as chess\n",
    "import chess.engine as engine\n",
    "import random\n",
    "import numpy as np\n",
    "import math\n",
    "import tensorflow.keras.models as models\n",
    "import tensorflow.keras.layers as layers\n",
    "import tensorflow.keras.utils as utils\n",
    "import tensorflow.keras.optimizers as optimizers"
   ],
   "outputs": [],
   "execution_count": 10
  },
  {
   "metadata": {
    "ExecuteTime": {
     "end_time": "2024-09-13T02:21:16.122004Z",
     "start_time": "2024-09-13T02:21:16.101590Z"
    }
   },
   "cell_type": "code",
   "source": [
    "def random_board():\n",
    "    board = chess.Board()\n",
    "    depth = random.randrange(0, 300)\n",
    "    for i in range(depth):\n",
    "        all_moves = list(board.legal_moves)\n",
    "        rand_move = random.choice(all_moves)\n",
    "        board.push(rand_move)\n",
    "        print(board)\n",
    "        if board.is_game_over():\n",
    "            break\n",
    "    return board \n",
    "\n",
    "def sfrating(board, depth, boolean): #boolean true if checking whites score, false if checking blacks score\n",
    "    stockfish = engine.SimpleEngine.popen_uci('ChessAI/stockfish-mac-master/Chess')\n",
    "    result = stockfish.analyse(board, engine.Limit(depth=depth))\n",
    "    if boolean:\n",
    "        return result['score'].white().score()\n",
    "    else:\n",
    "        return result['score'].black().score()\n",
    "    \n",
    "def index(spot): #1, 63, etc, horizontal-sequenced\n",
    "    return (8*(spot[1]-1)) + ord(spot[0].upper()-65) \n",
    "\n",
    "def three_d_ify(cb): #returns 14 states of board, an appearance matrix of every piece for both sides (6*2=12) and 2 more states with all that each side threatens\n",
    "    super_board = np.zeros((14, 8, 8), dtype=np.int8) #simplified because max is 64\n",
    "    \n",
    "    for piece in chess.PIECE_TYPES:\n",
    "        for sq in cb.pieces(piece, chess.WHITE):\n",
    "            p_index = np.unravel_index(sq, (8, 8))\n",
    "            super_board[piece-1][p_index[0]][p_index[1]] = 1 #targets white pieces of type\n",
    "            \n",
    "        for sq in cb.pieces(piece, chess.BLACK):\n",
    "            p_index = np.unravel_index(sq, (8, 8))\n",
    "            super_board[piece+5][p_index[0]][p_index[1]] = 1 #targets black pieces of type\n",
    "            \n",
    "    cb.turn = chess.WHITE\n",
    "    for vmoves in cb.legal_moves:\n",
    "        i = index(vmoves.to_square)\n",
    "        super_board[12][i-math.floor((i)/8)*8][math.floor((i)/8)] = 1\n",
    "        \n",
    "    cb.turn = chess.BLACK\n",
    "    for vmoves in cb.legal_moves:\n",
    "        i = index(vmoves.to_square)\n",
    "        super_board[13][i-math.floor((i)/8)*8][math.floor((i)/8)] = 1\n",
    "        "
   ],
   "id": "35c2806f7e1384ce",
   "outputs": [],
   "execution_count": 11
  },
  {
   "metadata": {
    "ExecuteTime": {
     "end_time": "2024-09-13T02:21:54.214270Z",
     "start_time": "2024-09-13T02:21:54.121647Z"
    }
   },
   "cell_type": "code",
   "source": [
    "def make_model(conv_layers, conv_neurons, dense_layers, dense_neurons): #i like to call conv filters neurons\n",
    "    super_board = layers.Input(shape=(14, 8, 8))\n",
    "    x = super_board\n",
    "    \n",
    "    for i in range(conv_layers):\n",
    "        x = layers.Conv2D(filters=conv_neurons, kernel_size=3, padding='same', activation='relu')(x)\n",
    "    x = layers.Flatten()(x)\n",
    "    \n",
    "    for i in range(dense_layers):\n",
    "        x = layers.Dense(units=dense_neurons, activation='relu')(x)\n",
    "    x = layers.Dense(units=1, activation='sigmoid')(x)\n",
    "    \n",
    "    return models.Model(inputs=super_board, outputs=x)\n"
   ],
   "id": "df87acbfa4772b6",
   "outputs": [],
   "execution_count": 13
  },
  {
   "metadata": {
    "ExecuteTime": {
     "end_time": "2024-09-13T02:22:00.348436Z",
     "start_time": "2024-09-13T02:21:56.321736Z"
    }
   },
   "cell_type": "code",
   "source": [
   ],
   "id": "477f28c6e31f701d",
   "outputs": [
    {
     "ename": "AttributeError",
     "evalue": "module 'pydot' has no attribute 'InvocationException'",
     "output_type": "error",
     "traceback": [
      "\u001B[0;31m---------------------------------------------------------------------------\u001B[0m",
      "\u001B[0;31mFileNotFoundError\u001B[0m                         Traceback (most recent call last)",
      "File \u001B[0;32m~/anaconda3/lib/python3.11/site-packages/pydot/core.py:1799\u001B[0m, in \u001B[0;36mDot.create\u001B[0;34m(self, prog, format, encoding)\u001B[0m\n\u001B[1;32m   1798\u001B[0m \u001B[38;5;28;01mtry\u001B[39;00m:\n\u001B[0;32m-> 1799\u001B[0m     stdout_data, stderr_data, process \u001B[38;5;241m=\u001B[39m call_graphviz(\n\u001B[1;32m   1800\u001B[0m         program\u001B[38;5;241m=\u001B[39mprog,\n\u001B[1;32m   1801\u001B[0m         arguments\u001B[38;5;241m=\u001B[39marguments,\n\u001B[1;32m   1802\u001B[0m         working_dir\u001B[38;5;241m=\u001B[39mtmp_dir,\n\u001B[1;32m   1803\u001B[0m     )\n\u001B[1;32m   1804\u001B[0m \u001B[38;5;28;01mexcept\u001B[39;00m \u001B[38;5;167;01mOSError\u001B[39;00m \u001B[38;5;28;01mas\u001B[39;00m e:\n",
      "File \u001B[0;32m~/anaconda3/lib/python3.11/site-packages/pydot/core.py:222\u001B[0m, in \u001B[0;36mcall_graphviz\u001B[0;34m(program, arguments, working_dir, **kwargs)\u001B[0m\n\u001B[1;32m    220\u001B[0m program_with_args \u001B[38;5;241m=\u001B[39m [program] \u001B[38;5;241m+\u001B[39m arguments\n\u001B[0;32m--> 222\u001B[0m process \u001B[38;5;241m=\u001B[39m subprocess\u001B[38;5;241m.\u001B[39mPopen(\n\u001B[1;32m    223\u001B[0m     program_with_args,\n\u001B[1;32m    224\u001B[0m     env\u001B[38;5;241m=\u001B[39menv,\n\u001B[1;32m    225\u001B[0m     cwd\u001B[38;5;241m=\u001B[39mworking_dir,\n\u001B[1;32m    226\u001B[0m     shell\u001B[38;5;241m=\u001B[39m\u001B[38;5;28;01mFalse\u001B[39;00m,\n\u001B[1;32m    227\u001B[0m     stderr\u001B[38;5;241m=\u001B[39msubprocess\u001B[38;5;241m.\u001B[39mPIPE,\n\u001B[1;32m    228\u001B[0m     stdout\u001B[38;5;241m=\u001B[39msubprocess\u001B[38;5;241m.\u001B[39mPIPE,\n\u001B[1;32m    229\u001B[0m     \u001B[38;5;241m*\u001B[39m\u001B[38;5;241m*\u001B[39mkwargs,\n\u001B[1;32m    230\u001B[0m )\n\u001B[1;32m    231\u001B[0m stdout_data, stderr_data \u001B[38;5;241m=\u001B[39m process\u001B[38;5;241m.\u001B[39mcommunicate()\n",
      "File \u001B[0;32m~/anaconda3/lib/python3.11/subprocess.py:1026\u001B[0m, in \u001B[0;36mPopen.__init__\u001B[0;34m(self, args, bufsize, executable, stdin, stdout, stderr, preexec_fn, close_fds, shell, cwd, env, universal_newlines, startupinfo, creationflags, restore_signals, start_new_session, pass_fds, user, group, extra_groups, encoding, errors, text, umask, pipesize, process_group)\u001B[0m\n\u001B[1;32m   1023\u001B[0m             \u001B[38;5;28mself\u001B[39m\u001B[38;5;241m.\u001B[39mstderr \u001B[38;5;241m=\u001B[39m io\u001B[38;5;241m.\u001B[39mTextIOWrapper(\u001B[38;5;28mself\u001B[39m\u001B[38;5;241m.\u001B[39mstderr,\n\u001B[1;32m   1024\u001B[0m                     encoding\u001B[38;5;241m=\u001B[39mencoding, errors\u001B[38;5;241m=\u001B[39merrors)\n\u001B[0;32m-> 1026\u001B[0m     \u001B[38;5;28mself\u001B[39m\u001B[38;5;241m.\u001B[39m_execute_child(args, executable, preexec_fn, close_fds,\n\u001B[1;32m   1027\u001B[0m                         pass_fds, cwd, env,\n\u001B[1;32m   1028\u001B[0m                         startupinfo, creationflags, shell,\n\u001B[1;32m   1029\u001B[0m                         p2cread, p2cwrite,\n\u001B[1;32m   1030\u001B[0m                         c2pread, c2pwrite,\n\u001B[1;32m   1031\u001B[0m                         errread, errwrite,\n\u001B[1;32m   1032\u001B[0m                         restore_signals,\n\u001B[1;32m   1033\u001B[0m                         gid, gids, uid, umask,\n\u001B[1;32m   1034\u001B[0m                         start_new_session, process_group)\n\u001B[1;32m   1035\u001B[0m \u001B[38;5;28;01mexcept\u001B[39;00m:\n\u001B[1;32m   1036\u001B[0m     \u001B[38;5;66;03m# Cleanup if the child failed starting.\u001B[39;00m\n",
      "File \u001B[0;32m~/anaconda3/lib/python3.11/subprocess.py:1950\u001B[0m, in \u001B[0;36mPopen._execute_child\u001B[0;34m(self, args, executable, preexec_fn, close_fds, pass_fds, cwd, env, startupinfo, creationflags, shell, p2cread, p2cwrite, c2pread, c2pwrite, errread, errwrite, restore_signals, gid, gids, uid, umask, start_new_session, process_group)\u001B[0m\n\u001B[1;32m   1949\u001B[0m         err_msg \u001B[38;5;241m=\u001B[39m os\u001B[38;5;241m.\u001B[39mstrerror(errno_num)\n\u001B[0;32m-> 1950\u001B[0m     \u001B[38;5;28;01mraise\u001B[39;00m child_exception_type(errno_num, err_msg, err_filename)\n\u001B[1;32m   1951\u001B[0m \u001B[38;5;28;01mraise\u001B[39;00m child_exception_type(err_msg)\n",
      "\u001B[0;31mFileNotFoundError\u001B[0m: [Errno 2] No such file or directory: 'dot'",
      "\nDuring handling of the above exception, another exception occurred:\n",
      "\u001B[0;31mFileNotFoundError\u001B[0m                         Traceback (most recent call last)",
      "File \u001B[0;32m~/anaconda3/lib/python3.11/site-packages/keras/src/utils/model_visualization.py:37\u001B[0m, in \u001B[0;36mcheck_graphviz\u001B[0;34m()\u001B[0m\n\u001B[1;32m     34\u001B[0m \u001B[38;5;28;01mtry\u001B[39;00m:\n\u001B[1;32m     35\u001B[0m     \u001B[38;5;66;03m# Attempt to create an image of a blank graph\u001B[39;00m\n\u001B[1;32m     36\u001B[0m     \u001B[38;5;66;03m# to check the pydot/graphviz installation.\u001B[39;00m\n\u001B[0;32m---> 37\u001B[0m     pydot\u001B[38;5;241m.\u001B[39mDot\u001B[38;5;241m.\u001B[39mcreate(pydot\u001B[38;5;241m.\u001B[39mDot())\n\u001B[1;32m     38\u001B[0m     \u001B[38;5;28;01mreturn\u001B[39;00m \u001B[38;5;28;01mTrue\u001B[39;00m\n",
      "File \u001B[0;32m~/anaconda3/lib/python3.11/site-packages/pydot/core.py:1808\u001B[0m, in \u001B[0;36mDot.create\u001B[0;34m(self, prog, format, encoding)\u001B[0m\n\u001B[1;32m   1807\u001B[0m     args[\u001B[38;5;241m1\u001B[39m] \u001B[38;5;241m=\u001B[39m \u001B[38;5;124mf\u001B[39m\u001B[38;5;124m'\u001B[39m\u001B[38;5;124m\"\u001B[39m\u001B[38;5;132;01m{\u001B[39;00mprog\u001B[38;5;132;01m}\u001B[39;00m\u001B[38;5;124m\"\u001B[39m\u001B[38;5;124m not found in path.\u001B[39m\u001B[38;5;124m'\u001B[39m\n\u001B[0;32m-> 1808\u001B[0m     \u001B[38;5;28;01mraise\u001B[39;00m \u001B[38;5;167;01mOSError\u001B[39;00m(\u001B[38;5;241m*\u001B[39margs)\n\u001B[1;32m   1809\u001B[0m \u001B[38;5;28;01melse\u001B[39;00m:\n",
      "\u001B[0;31mFileNotFoundError\u001B[0m: [Errno 2] \"dot\" not found in path.",
      "\nDuring handling of the above exception, another exception occurred:\n",
      "\u001B[0;31mAttributeError\u001B[0m                            Traceback (most recent call last)",
      "Cell \u001B[0;32mIn[14], line 2\u001B[0m\n\u001B[1;32m      1\u001B[0m m \u001B[38;5;241m=\u001B[39m make_model(\u001B[38;5;241m5\u001B[39m, \u001B[38;5;241m16\u001B[39m, \u001B[38;5;241m2\u001B[39m, \u001B[38;5;241m32\u001B[39m)\n\u001B[0;32m----> 2\u001B[0m utils\u001B[38;5;241m.\u001B[39mplot_model(m, to_file\u001B[38;5;241m=\u001B[39m\u001B[38;5;124m'\u001B[39m\u001B[38;5;124mmodel.png\u001B[39m\u001B[38;5;124m'\u001B[39m, show_shapes\u001B[38;5;241m=\u001B[39m\u001B[38;5;28;01mTrue\u001B[39;00m, show_layer_names\u001B[38;5;241m=\u001B[39m\u001B[38;5;28;01mTrue\u001B[39;00m)\n",
      "File \u001B[0;32m~/anaconda3/lib/python3.11/site-packages/keras/src/utils/model_visualization.py:430\u001B[0m, in \u001B[0;36mplot_model\u001B[0;34m(model, to_file, show_shapes, show_dtype, show_layer_names, rankdir, expand_nested, dpi, show_layer_activations, show_trainable, **kwargs)\u001B[0m\n\u001B[1;32m    428\u001B[0m     \u001B[38;5;28;01melse\u001B[39;00m:\n\u001B[1;32m    429\u001B[0m         \u001B[38;5;28;01mraise\u001B[39;00m \u001B[38;5;167;01mImportError\u001B[39;00m(message)\n\u001B[0;32m--> 430\u001B[0m \u001B[38;5;28;01mif\u001B[39;00m \u001B[38;5;129;01mnot\u001B[39;00m check_graphviz():\n\u001B[1;32m    431\u001B[0m     message \u001B[38;5;241m=\u001B[39m (\n\u001B[1;32m    432\u001B[0m         \u001B[38;5;124m\"\u001B[39m\u001B[38;5;124mYou must install graphviz \u001B[39m\u001B[38;5;124m\"\u001B[39m\n\u001B[1;32m    433\u001B[0m         \u001B[38;5;124m\"\u001B[39m\u001B[38;5;124m(see instructions at https://graphviz.gitlab.io/download/) \u001B[39m\u001B[38;5;124m\"\u001B[39m\n\u001B[1;32m    434\u001B[0m         \u001B[38;5;124m\"\u001B[39m\u001B[38;5;124mfor `plot_model` to work.\u001B[39m\u001B[38;5;124m\"\u001B[39m\n\u001B[1;32m    435\u001B[0m     )\n\u001B[1;32m    436\u001B[0m     \u001B[38;5;28;01mif\u001B[39;00m \u001B[38;5;124m\"\u001B[39m\u001B[38;5;124mIPython.core.magics.namespace\u001B[39m\u001B[38;5;124m\"\u001B[39m \u001B[38;5;129;01min\u001B[39;00m sys\u001B[38;5;241m.\u001B[39mmodules:\n\u001B[1;32m    437\u001B[0m         \u001B[38;5;66;03m# We don't raise an exception here in order to avoid crashing\u001B[39;00m\n\u001B[1;32m    438\u001B[0m         \u001B[38;5;66;03m# notebook tests where graphviz is not available.\u001B[39;00m\n",
      "File \u001B[0;32m~/anaconda3/lib/python3.11/site-packages/keras/src/utils/model_visualization.py:39\u001B[0m, in \u001B[0;36mcheck_graphviz\u001B[0;34m()\u001B[0m\n\u001B[1;32m     37\u001B[0m     pydot\u001B[38;5;241m.\u001B[39mDot\u001B[38;5;241m.\u001B[39mcreate(pydot\u001B[38;5;241m.\u001B[39mDot())\n\u001B[1;32m     38\u001B[0m     \u001B[38;5;28;01mreturn\u001B[39;00m \u001B[38;5;28;01mTrue\u001B[39;00m\n\u001B[0;32m---> 39\u001B[0m \u001B[38;5;28;01mexcept\u001B[39;00m (\u001B[38;5;167;01mOSError\u001B[39;00m, pydot\u001B[38;5;241m.\u001B[39mInvocationException):\n\u001B[1;32m     40\u001B[0m     \u001B[38;5;28;01mreturn\u001B[39;00m \u001B[38;5;28;01mFalse\u001B[39;00m\n",
      "\u001B[0;31mAttributeError\u001B[0m: module 'pydot' has no attribute 'InvocationException'"
     ]
    }
   ],
   "execution_count": 14
  },
  {
   "metadata": {
    "ExecuteTime": {
     "end_time": "2024-09-13T02:22:18.083218Z",
     "start_time": "2024-09-13T02:22:18.009343Z"
    }
   },
   "cell_type": "code",
   "source": [
    "def minimax(board, depth, maximizing, alpha, beta, model):\n",
    "    if depth == 0 | board.is_game_over(): \n",
    "        return evaluate(board, model)\n",
    "    \n",
    "    if maximizing:\n",
    "        max_move = -np.inf\n",
    "        for move in board.legal_moves:\n",
    "            newb = board.push(move)\n",
    "            eval = minimax(newb, depth-1, False, alpha, beta, model)\n",
    "            board.pop()\n",
    "            max_move = max(max_move, eval)\n",
    "            alpha = max(alpha, eval)\n",
    "            if alpha >= beta:\n",
    "                return\n",
    "        return max_move\n",
    "    \n",
    "    else:\n",
    "        min_move = np.inf\n",
    "        for move in board.legal_moves:\n",
    "            newb = board.push(move)\n",
    "            eval = minimax(newb, depth-1, True, alpha, beta, model)\n",
    "            board.pop()\n",
    "            min_move = min(min_move, eval)\n",
    "            beta = min(beta, eval)\n",
    "            if alpha >= beta:\n",
    "                return\n",
    "        return min_move    \n",
    "\n",
    "def evaluate(board, model):\n",
    "    super_board = three_d_ify(board)\n",
    "    model.predict(super_board)\n",
    "            \n",
    "def get_move(board, depth, model):\n",
    "    m = None\n",
    "    \n",
    "    if board.turn == chess.WHITE:\n",
    "        max_eval = -np.inf\n",
    "        for move in board.legal_moves:\n",
    "            board.push(move)\n",
    "            eval = minimax(board, depth, True, -np.inf, np.inf, model)\n",
    "            board.pop()\n",
    "            if eval > max_eval:\n",
    "                max_eval = eval\n",
    "                m = move\n",
    "    \n",
    "    else:\n",
    "        min_eval = np.inf\n",
    "        for move in board.legal_moves:\n",
    "            board.push(move)\n",
    "            eval = minimax(board, depth, False, -np.inf, np.inf, model)\n",
    "            board.pop()\n",
    "            if eval < min_eval:\n",
    "                min_eval = eval\n",
    "                m = move\n",
    "                \n",
    "    return m            "
   ],
   "id": "3cc29c5e557f42f",
   "outputs": [],
   "execution_count": 15
  }
 ],
 "metadata": {
  "kernelspec": {
   "display_name": "Python 3",
   "language": "python",
   "name": "python3"
  },
  "language_info": {
   "codemirror_mode": {
    "name": "ipython",
    "version": 2
   },
   "file_extension": ".py",
   "mimetype": "text/x-python",
   "name": "python",
   "nbconvert_exporter": "python",
   "pygments_lexer": "ipython2",
   "version": "2.7.6"
  }
 },
 "nbformat": 4,
 "nbformat_minor": 5
}
